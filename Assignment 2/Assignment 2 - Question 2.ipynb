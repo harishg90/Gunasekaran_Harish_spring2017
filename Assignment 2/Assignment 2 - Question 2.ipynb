{
 "cells": [
  {
   "cell_type": "code",
   "execution_count": 1,
   "metadata": {
    "collapsed": true
   },
   "outputs": [],
   "source": [
    "import json\n",
    "import os\n",
    "import glob\n",
    "import shutil\n",
    "\n",
    "#creating folder in absolute path\n",
    "json_dir_name = \"C:/Users/ABC/DataAnalysis4Python_Spring17/Assignment 2/Data/*.json\"\n",
    "json_output_folders=\"C:/Users/ABC/Desktop/DataProcessed\"\n",
    "\n",
    "#To read json files and create folder hierarchy\n",
    "#Country->City->Attractions\n",
    "for filename in glob.iglob(json_dir_name):\n",
    "    with open(filename,'r') as f:\n",
    "        json_file_data=json.load(f)\n",
    "        country=json_file_data[\"location\"][\"country\"]\n",
    "        dir1=json_output_folders+\"/\"+country\n",
    "        if not os.path.exists(dir1):\n",
    "            os.makedirs(dir1)\n",
    "        city=json_file_data[\"location\"][\"city\"]\n",
    "        dir2=dir1+\"/\"+city\n",
    "        if not os.path.exists(dir2):\n",
    "            os.makedirs(dir2)\n",
    "        term=json_file_data[\"term\"]\n",
    "        dir3=dir2+\"/\"+term\n",
    "        if not os.path.exists(dir3):\n",
    "            os.makedirs(dir3)\n",
    "        shutil.copy(filename,dir3)"
   ]
  },
  {
   "cell_type": "code",
   "execution_count": 12,
   "metadata": {
    "collapsed": false,
    "scrolled": true
   },
   "outputs": [],
   "source": [
    "import glob\n",
    "import json\n",
    "\n",
    "#write the contents of json files into csv file\n",
    "with open('C:/Users/ABC/Desktop/Places.csv', 'w', errors=\"ignore\") as csvfile:\n",
    "    fieldnames = ['Name of Restaurant', 'City', 'Country Code', 'Day of week', 'Start Time Hour', 'Start Time Minute', 'End Time Hour', 'End Time Minute']\n",
    "    writer = csv.DictWriter(csvfile, fieldnames=fieldnames)\n",
    "    writer.writeheader()\n",
    "    json_dir = \"C:/Users/ABC/DataAnalysis4Python_Spring17/Assignment 2/Data/*.json\"\n",
    "    for files in glob.iglob(json_dir):\n",
    "        with open(files,'r') as f:\n",
    "            json_data=json.load(f)\n",
    "            if 'restaurants' in json_data['term']:\n",
    "                if 'hours' in json_data:\n",
    "                    list=data[\"hours\"][0][\"open\"]\n",
    "                    for item in list:\n",
    "                        restaurant_item={}\n",
    "                        restaurant_item=item\n",
    "                        writer.writerow({'Name of Restaurant': json_data[\"name\"], 'City': json_data[\"location\"][\"city\"],\n",
    "                                      'Country Code': json_data[\"location\"][\"country\"],'Day of week':restaurant_item[\"day\"],\n",
    "                                      'Start Time Hour':restaurant_item[\"start\"][0:2],'Start Time Minute':restaurant_item[\"start\"][2:4],\n",
    "                                      'End Time Hour':restaurant_item[\"end\"][0:2],'End Time Minute':restaurant_item[\"end\"][2:4] })"
   ]
  },
  {
   "cell_type": "code",
   "execution_count": null,
   "metadata": {
    "collapsed": false,
    "scrolled": true
   },
   "outputs": [],
   "source": []
  },
  {
   "cell_type": "code",
   "execution_count": null,
   "metadata": {
    "collapsed": true
   },
   "outputs": [],
   "source": []
  }
 ],
 "metadata": {
  "kernelspec": {
   "display_name": "Python [conda root]",
   "language": "python",
   "name": "conda-root-py"
  },
  "language_info": {
   "codemirror_mode": {
    "name": "ipython",
    "version": 3
   },
   "file_extension": ".py",
   "mimetype": "text/x-python",
   "name": "python",
   "nbconvert_exporter": "python",
   "pygments_lexer": "ipython3",
   "version": "3.5.2"
  }
 },
 "nbformat": 4,
 "nbformat_minor": 1
}
