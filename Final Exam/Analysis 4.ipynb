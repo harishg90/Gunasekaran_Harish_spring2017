{
 "cells": [
  {
   "cell_type": "code",
   "execution_count": null,
   "metadata": {
    "collapsed": false,
    "scrolled": true
   },
   "outputs": [],
   "source": [
    "from pandas import Series, DataFrame\n",
    "import pandas as pd\n",
    "import numpy as np\n",
    "import glob\n",
    "\n",
    "pdata = pd.read_csv(\"Flight data/Passenger data.csv\", sep=',')[[\"PASSENGERS\", \"AIRLINE_ID\", \"CARRIER_NAME\", \"ORIGIN_CITY_NAME\", \"DEST_CITY_NAME\",\"MONTH\"]]\n",
    "\n",
    "# df1 = DataFrame(pdata.groupby([\"AIRLINE_ID\", \"CARRIER_NAME\",\"ORIGIN_CITY_NAME\", \"DEST_CITY_NAME\"])[\"PASSENGERS\"].count())\n",
    "df1 = DataFrame(pdata.groupby([\"AIRLINE_ID\", \"CARRIER_NAME\"])[\"PASSENGERS\"].sum())\n",
    "# df1.to_csv(\"passengers.csv\")\n",
    "df1.sort_values(by='PASSENGERS', ascending=False).head(n=25).reset_index()"
   ]
  },
  {
   "cell_type": "code",
   "execution_count": 3,
   "metadata": {
    "collapsed": false,
    "scrolled": true
   },
   "outputs": [
    {
     "data": {
      "text/html": [
       "<div>\n",
       "<table border=\"1\" class=\"dataframe\">\n",
       "  <thead>\n",
       "    <tr style=\"text-align: right;\">\n",
       "      <th></th>\n",
       "      <th>AIRLINE_ID</th>\n",
       "      <th>CARRIER_NAME</th>\n",
       "      <th>NET_INCOME</th>\n",
       "    </tr>\n",
       "  </thead>\n",
       "  <tbody>\n",
       "    <tr>\n",
       "      <th>0</th>\n",
       "      <td>19790</td>\n",
       "      <td>Delta Air Lines Inc.</td>\n",
       "      <td>3776999.00</td>\n",
       "    </tr>\n",
       "    <tr>\n",
       "      <th>1</th>\n",
       "      <td>19805</td>\n",
       "      <td>American Airlines Inc.</td>\n",
       "      <td>2440628.93</td>\n",
       "    </tr>\n",
       "    <tr>\n",
       "      <th>2</th>\n",
       "      <td>19977</td>\n",
       "      <td>United Air Lines Inc.</td>\n",
       "      <td>1866994.37</td>\n",
       "    </tr>\n",
       "    <tr>\n",
       "      <th>3</th>\n",
       "      <td>19393</td>\n",
       "      <td>Southwest Airlines Co.</td>\n",
       "      <td>1719647.00</td>\n",
       "    </tr>\n",
       "    <tr>\n",
       "      <th>4</th>\n",
       "      <td>20107</td>\n",
       "      <td>Federal Express Corporation</td>\n",
       "      <td>1254113.00</td>\n",
       "    </tr>\n",
       "    <tr>\n",
       "      <th>5</th>\n",
       "      <td>19930</td>\n",
       "      <td>Alaska Airlines Inc.</td>\n",
       "      <td>714400.00</td>\n",
       "    </tr>\n",
       "    <tr>\n",
       "      <th>6</th>\n",
       "      <td>20409</td>\n",
       "      <td>JetBlue Airways</td>\n",
       "      <td>578608.60</td>\n",
       "    </tr>\n",
       "    <tr>\n",
       "      <th>7</th>\n",
       "      <td>20368</td>\n",
       "      <td>Allegiant Air</td>\n",
       "      <td>275369.30</td>\n",
       "    </tr>\n",
       "    <tr>\n",
       "      <th>8</th>\n",
       "      <td>20416</td>\n",
       "      <td>Spirit Air Lines</td>\n",
       "      <td>249581.73</td>\n",
       "    </tr>\n",
       "    <tr>\n",
       "      <th>9</th>\n",
       "      <td>20436</td>\n",
       "      <td>Frontier Airlines Inc.</td>\n",
       "      <td>169898.19</td>\n",
       "    </tr>\n",
       "    <tr>\n",
       "      <th>10</th>\n",
       "      <td>20304</td>\n",
       "      <td>SkyWest Airlines Inc.</td>\n",
       "      <td>108074.00</td>\n",
       "    </tr>\n",
       "    <tr>\n",
       "      <th>11</th>\n",
       "      <td>21171</td>\n",
       "      <td>Virgin America</td>\n",
       "      <td>107356.28</td>\n",
       "    </tr>\n",
       "    <tr>\n",
       "      <th>12</th>\n",
       "      <td>19690</td>\n",
       "      <td>Hawaiian Airlines Inc.</td>\n",
       "      <td>103518.36</td>\n",
       "    </tr>\n",
       "    <tr>\n",
       "      <th>13</th>\n",
       "      <td>19917</td>\n",
       "      <td>United Parcel Service</td>\n",
       "      <td>95618.85</td>\n",
       "    </tr>\n",
       "    <tr>\n",
       "      <th>14</th>\n",
       "      <td>20378</td>\n",
       "      <td>Mesa Airlines Inc.</td>\n",
       "      <td>32620.96</td>\n",
       "    </tr>\n",
       "    <tr>\n",
       "      <th>15</th>\n",
       "      <td>20422</td>\n",
       "      <td>Sun Country Airlines d/b/a MN Airlines</td>\n",
       "      <td>25064.89</td>\n",
       "    </tr>\n",
       "    <tr>\n",
       "      <th>16</th>\n",
       "      <td>20377</td>\n",
       "      <td>Omni Air Express</td>\n",
       "      <td>20230.20</td>\n",
       "    </tr>\n",
       "    <tr>\n",
       "      <th>17</th>\n",
       "      <td>20398</td>\n",
       "      <td>Envoy Air</td>\n",
       "      <td>13553.57</td>\n",
       "    </tr>\n",
       "    <tr>\n",
       "      <th>18</th>\n",
       "      <td>20447</td>\n",
       "      <td>USA Jet Airlines Inc.</td>\n",
       "      <td>10828.79</td>\n",
       "    </tr>\n",
       "    <tr>\n",
       "      <th>19</th>\n",
       "      <td>20190</td>\n",
       "      <td>Southern Air Inc.</td>\n",
       "      <td>9891.55</td>\n",
       "    </tr>\n",
       "  </tbody>\n",
       "</table>\n",
       "</div>"
      ],
      "text/plain": [
       "    AIRLINE_ID                            CARRIER_NAME  NET_INCOME\n",
       "0        19790                    Delta Air Lines Inc.  3776999.00\n",
       "1        19805                  American Airlines Inc.  2440628.93\n",
       "2        19977                   United Air Lines Inc.  1866994.37\n",
       "3        19393                  Southwest Airlines Co.  1719647.00\n",
       "4        20107             Federal Express Corporation  1254113.00\n",
       "5        19930                    Alaska Airlines Inc.   714400.00\n",
       "6        20409                         JetBlue Airways   578608.60\n",
       "7        20368                           Allegiant Air   275369.30\n",
       "8        20416                        Spirit Air Lines   249581.73\n",
       "9        20436                  Frontier Airlines Inc.   169898.19\n",
       "10       20304                   SkyWest Airlines Inc.   108074.00\n",
       "11       21171                          Virgin America   107356.28\n",
       "12       19690                  Hawaiian Airlines Inc.   103518.36\n",
       "13       19917                   United Parcel Service    95618.85\n",
       "14       20378                      Mesa Airlines Inc.    32620.96\n",
       "15       20422  Sun Country Airlines d/b/a MN Airlines    25064.89\n",
       "16       20377                        Omni Air Express    20230.20\n",
       "17       20398                               Envoy Air    13553.57\n",
       "18       20447                   USA Jet Airlines Inc.    10828.79\n",
       "19       20190                       Southern Air Inc.     9891.55"
      ]
     },
     "execution_count": 3,
     "metadata": {},
     "output_type": "execute_result"
    }
   ],
   "source": [
    "fdata = pd.read_csv(\"Flight data/Financial data.csv\", sep=',')\n",
    "df2 = DataFrame(fdata.groupby([\"AIRLINE_ID\", \"CARRIER_NAME\"])[\"NET_INCOME\"].sum())\n",
    "# df2.to_csv(\"income.csv\")\n",
    "df2.sort_values(by='NET_INCOME', ascending=False).head(n=20).reset_index()"
   ]
  },
  {
   "cell_type": "code",
   "execution_count": null,
   "metadata": {
    "collapsed": false
   },
   "outputs": [],
   "source": [
    "avgfare = df1.merge(df2, how = 'inner', left_index = True, right_index=True)\n",
    "avgfare = avgfare[avgfare.PASSENGERS != 0]\n",
    "avgfare['AVERAGE_FARE'] = avgfare['PASSENGERS']/avgfare['NET_INCOME']\n",
    "avgfare_df=avgfare.reset_index()"
   ]
  },
  {
   "cell_type": "code",
   "execution_count": null,
   "metadata": {
    "collapsed": true
   },
   "outputs": [],
   "source": [
    "print(avgfare_df[\"CARRIER_NAME\"])"
   ]
  },
  {
   "cell_type": "code",
   "execution_count": null,
   "metadata": {
    "collapsed": false
   },
   "outputs": [],
   "source": [
    "df2.head(n=20)\n",
    "userinput=input(\"Enter a airline you want to see consolidated results\")"
   ]
  },
  {
   "cell_type": "code",
   "execution_count": null,
   "metadata": {
    "collapsed": true
   },
   "outputs": [],
   "source": []
  }
 ],
 "metadata": {
  "anaconda-cloud": {},
  "kernelspec": {
   "display_name": "Python [conda root]",
   "language": "python",
   "name": "conda-root-py"
  },
  "language_info": {
   "codemirror_mode": {
    "name": "ipython",
    "version": 3
   },
   "file_extension": ".py",
   "mimetype": "text/x-python",
   "name": "python",
   "nbconvert_exporter": "python",
   "pygments_lexer": "ipython3",
   "version": "3.5.2"
  }
 },
 "nbformat": 4,
 "nbformat_minor": 1
}
