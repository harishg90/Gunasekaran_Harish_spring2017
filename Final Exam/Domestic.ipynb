{
 "cells": [
  {
   "cell_type": "code",
   "execution_count": 2,
   "metadata": {
    "collapsed": false
   },
   "outputs": [],
   "source": [
    "from pandas import Series, DataFrame\n",
    "import pandas as pd\n",
    "import numpy as np\n",
    "import glob\n",
    "\n",
    "# Number of flights taking off from Boston\n",
    "data=pd.read_csv(\"D:/Academics/Assignments/Harish-Git/Gunasekaran_Harish_spring2017/Final Exam/Flight data/September_2016.csv\")[[\"ORIGIN_CITY_NAME\", \"AIRLINE_ID\", \"DEST_CITY_NAME\"]]\n",
    "airdata = pd.read_csv(\"D:/Academics/Assignments/Harish-Git/Gunasekaran_Harish_spring2017/Final Exam/Flight data/Airline_LOV.csv\")[[\"AIRLINE_ID\", \"CARRIER_NAME\"]]\n",
    "df = DataFrame(data[data.apply(lambda x: x['ORIGIN_CITY_NAME'] == \"Boston, MA\", axis=1)])\n",
    "\n",
    "# df = pd.merge(df, airdata, on=\"AIRLINE_ID\", how='left')\n",
    "# df = DataFrame(df.groupby([\"AIRLINE_ID\", \"CARRIER_NAME\"])[\"ORIGIN_CITY_NAME\"].count())"
   ]
  },
  {
   "cell_type": "code",
   "execution_count": null,
   "metadata": {
    "collapsed": true
   },
   "outputs": [],
   "source": []
  },
  {
   "cell_type": "code",
   "execution_count": 3,
   "metadata": {
    "collapsed": false
   },
   "outputs": [],
   "source": [
    "import csv\n",
    "df.to_csv(\"one.csv\")\n",
    "df.head()\n",
    "df1=df.groupby(['ORIGIN_CITY_NAME','DEST_CITY_NAME','AIRLINE_ID'])['AIRLINE_ID'].agg({'count'}).reset_index()\n"
   ]
  },
  {
   "cell_type": "code",
   "execution_count": 4,
   "metadata": {
    "collapsed": false
   },
   "outputs": [
    {
     "data": {
      "text/plain": [
       "ORIGIN_CITY_NAME    101\n",
       "DEST_CITY_NAME      101\n",
       "AIRLINE_ID          101\n",
       "count               101\n",
       "dtype: int64"
      ]
     },
     "execution_count": 4,
     "metadata": {},
     "output_type": "execute_result"
    }
   ],
   "source": [
    "df1.count()"
   ]
  },
  {
   "cell_type": "code",
   "execution_count": 5,
   "metadata": {
    "collapsed": true
   },
   "outputs": [],
   "source": [
    "airdata.to_csv(\"two.csv\")"
   ]
  },
  {
   "cell_type": "code",
   "execution_count": 7,
   "metadata": {
    "collapsed": false
   },
   "outputs": [],
   "source": [
    "df4 = airdata.drop_duplicates()\n",
    "result=pd.merge(df1,df4,how=\"inner\",on=\"AIRLINE_ID\")\n",
    "result.to_csv(\"three.csv\")"
   ]
  },
  {
   "cell_type": "code",
   "execution_count": 13,
   "metadata": {
    "collapsed": false
   },
   "outputs": [
    {
     "data": {
      "text/plain": [
       "10248"
      ]
     },
     "execution_count": 13,
     "metadata": {},
     "output_type": "execute_result"
    }
   ],
   "source": [
    "result['count'].sum()"
   ]
  },
  {
   "cell_type": "code",
   "execution_count": null,
   "metadata": {
    "collapsed": false
   },
   "outputs": [],
   "source": []
  }
 ],
 "metadata": {
  "anaconda-cloud": {},
  "kernelspec": {
   "display_name": "Python [default]",
   "language": "python",
   "name": "python3"
  },
  "language_info": {
   "codemirror_mode": {
    "name": "ipython",
    "version": 3
   },
   "file_extension": ".py",
   "mimetype": "text/x-python",
   "name": "python",
   "nbconvert_exporter": "python",
   "pygments_lexer": "ipython3",
   "version": "3.5.2"
  }
 },
 "nbformat": 4,
 "nbformat_minor": 2
}
