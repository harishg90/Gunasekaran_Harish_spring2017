{
 "cells": [
  {
   "cell_type": "code",
   "execution_count": 16,
   "metadata": {
    "collapsed": false
   },
   "outputs": [
    {
     "name": "stdout",
     "output_type": "stream",
     "text": [
      "D:/Academics/Assignments/Harish-Git/Gunasekaran_Harish_spring2017/Final Exam/Flight data\\December_2016.csv\n",
      "D:/Academics/Assignments/Harish-Git/Gunasekaran_Harish_spring2017/Final Exam/Flight data\\November_2016.csv\n",
      "D:/Academics/Assignments/Harish-Git/Gunasekaran_Harish_spring2017/Final Exam/Flight data\\October_2016.csv\n",
      "D:/Academics/Assignments/Harish-Git/Gunasekaran_Harish_spring2017/Final Exam/Flight data\\September_2016.csv\n"
     ]
    },
    {
     "data": {
      "text/plain": [
       "AIRLINE_ID  CARRIER_NAME                                              \n",
       "19393       Miami Air International                                       82319550.0\n",
       "19690       Federal Express Corporation                                    4105966.0\n",
       "19790       Federal Express Corporation                                   63035331.0\n",
       "19805       Federal Express Corporation                                   76554826.0\n",
       "19930       Federal Express Corporation                                   18370243.0\n",
       "19977       Federal Express Corporation                                   56392004.0\n",
       "20304       Federal Express Corporation                                   24970195.0\n",
       "20366       Federal Express Corporation                                   16947862.0\n",
       "20409       Federal Express Corporation                                   25876476.0\n",
       "20416       Federal Express Corporation                                   12411436.0\n",
       "20436       Federal Express Corporation                                    9033353.0\n",
       "21171       Caribbean Sun Airlines, Inc. d/b/a World Atlantic Airlines     8746975.0\n",
       "19393       Miami Air International                                       79454432.0\n",
       "19690       Federal Express Corporation                                    3799408.0\n",
       "19790       Federal Express Corporation                                   61062676.0\n",
       "19805       Federal Express Corporation                                   71843447.0\n",
       "19930       Federal Express Corporation                                   17342605.0\n",
       "19977       Federal Express Corporation                                   53304089.0\n",
       "20304       Federal Express Corporation                                   23599702.0\n",
       "20366       Federal Express Corporation                                   16298874.0\n",
       "20409       Federal Express Corporation                                   24172320.0\n",
       "20416       Federal Express Corporation                                   11488961.0\n",
       "20436       Federal Express Corporation                                    8466230.0\n",
       "21171       Caribbean Sun Airlines, Inc. d/b/a World Atlantic Airlines     8538126.0\n",
       "19393       Miami Air International                                       80270746.0\n",
       "19690       Federal Express Corporation                                    3938802.0\n",
       "19790       Federal Express Corporation                                   65045482.0\n",
       "19805       Federal Express Corporation                                   74969351.0\n",
       "19930       Federal Express Corporation                                   17011562.0\n",
       "19977       Federal Express Corporation                                   58055699.0\n",
       "20304       Federal Express Corporation                                   25163195.0\n",
       "20366       Federal Express Corporation                                   17675865.0\n",
       "20409       Federal Express Corporation                                   24295021.0\n",
       "20416       Federal Express Corporation                                   11230919.0\n",
       "20436       Federal Express Corporation                                    9078891.0\n",
       "21171       Caribbean Sun Airlines, Inc. d/b/a World Atlantic Airlines     8371498.0\n",
       "19393       Miami Air International                                       77028273.0\n",
       "19690       Federal Express Corporation                                    3901074.0\n",
       "19790       Federal Express Corporation                                   62577779.0\n",
       "19805       Federal Express Corporation                                   71593860.0\n",
       "19930       Federal Express Corporation                                   16730144.0\n",
       "19977       Federal Express Corporation                                   55747427.0\n",
       "20304       Federal Express Corporation                                   23756415.0\n",
       "20366       Federal Express Corporation                                   17510899.0\n",
       "20409       Federal Express Corporation                                   23325617.0\n",
       "20416       Federal Express Corporation                                   10854137.0\n",
       "20436       Federal Express Corporation                                    8955063.0\n",
       "21171       Caribbean Sun Airlines, Inc. d/b/a World Atlantic Airlines     8212849.0\n",
       "Name: DISTANCE, dtype: float64"
      ]
     },
     "execution_count": 16,
     "metadata": {},
     "output_type": "execute_result"
    }
   ],
   "source": [
    "from pandas import Series, DataFrame\n",
    "import pandas as pd\n",
    "import numpy as np\n",
    "import glob\n",
    "\n",
    "path = \"D:/Academics/Assignments/Harish-Git/Gunasekaran_Harish_spring2017/Final Exam/Flight data/*_2016.csv\"\n",
    "frame=pd.DataFrame()\n",
    "df_list=[]\n",
    "passenger_data = pd.read_csv(\"D:/Academics/Assignments/Harish-Git/Gunasekaran_Harish_spring2017/Final Exam/Flight data/Passenger data.csv\", sep=',')[[\"AIRLINE_ID\", \"CARRIER_NAME\"]]\n",
    "\n",
    "for fname in glob.glob(path):\n",
    "    print(fname)\n",
    "    data=pd.read_csv(fname,index_col=None, header=0)\n",
    "    df = DataFrame(data, columns=[\"AIRLINE_ID\", \"DISTANCE\"])   \n",
    "    df=pd.merge(df, passenger_data, left_on=\"AIRLINE_ID\", right_index=True)\n",
    "    df=df.groupby([\"AIRLINE_ID\", \"CARRIER_NAME\"])[\"DISTANCE\"].sum()\n",
    "#     df1=df.groupby([\"AIRLINE_ID\",\"ORIGIN_CITY_NAME\",\"DEST_CITY_NAME\"])[\"AIRLINE_ID\"].count()\n",
    "    df_list.append(df)\n",
    "    frame = pd.concat(df_list)\n",
    "frame   "
   ]
  },
  {
   "cell_type": "code",
   "execution_count": null,
   "metadata": {
    "collapsed": true
   },
   "outputs": [],
   "source": []
  }
 ],
 "metadata": {
  "kernelspec": {
   "display_name": "Python [conda root]",
   "language": "python",
   "name": "conda-root-py"
  },
  "language_info": {
   "codemirror_mode": {
    "name": "ipython",
    "version": 3
   },
   "file_extension": ".py",
   "mimetype": "text/x-python",
   "name": "python",
   "nbconvert_exporter": "python",
   "pygments_lexer": "ipython3",
   "version": "3.5.2"
  }
 },
 "nbformat": 4,
 "nbformat_minor": 1
}
