{
 "cells": [
  {
   "cell_type": "markdown",
   "metadata": {},
   "source": [
    "# INFO 7374 - Data Analysis Using Python - Final Project\n",
    "\n",
    "## Domestic flight data analysis \n",
    "\n",
    "### The analysis done is to assess the performance of various carriers based on the delay, passengers travelled and net income. The analysis has been done for the date range of September 2016 and December 2016. Weather data and financial data has been correlated to infer the impact on the Carrier revenue.\n",
    "\n",
    "## Data Collection:\n",
    "\n",
    "Data has been gathered in .csv format for the below records:\n",
    "1. Number of flights on a daily basis from Sept 2016 to Dec 2016 with Origin, Destination, Delays, Departure and Arrival Time.\n",
    "2. Number of passengers travelled on each carrier from Jan 2016 to Dec 2016.\n",
    "3. Net Income of carriers on each quarter\n",
    "4. Daily Weather data of Boston from Jan 2016 to Dec 2016\n",
    "\n"
   ]
  }
 ],
 "metadata": {
  "kernelspec": {
   "display_name": "Python [conda root]",
   "language": "python",
   "name": "conda-root-py"
  },
  "language_info": {
   "codemirror_mode": {
    "name": "ipython",
    "version": 3
   },
   "file_extension": ".py",
   "mimetype": "text/x-python",
   "name": "python",
   "nbconvert_exporter": "python",
   "pygments_lexer": "ipython3",
   "version": "3.5.2"
  }
 },
 "nbformat": 4,
 "nbformat_minor": 1
}
