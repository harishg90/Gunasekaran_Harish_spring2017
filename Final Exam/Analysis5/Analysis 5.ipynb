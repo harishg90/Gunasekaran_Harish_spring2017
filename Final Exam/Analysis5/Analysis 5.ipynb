{
 "cells": [
  {
   "cell_type": "code",
   "execution_count": 25,
   "metadata": {
    "collapsed": false
   },
   "outputs": [],
   "source": [
    "from pandas import Series, DataFrame\n",
    "import pandas as pd\n",
    "import numpy as np\n",
    "import glob\n",
    "\n",
    "# Number of flights taking off from Boston\n",
    "data=pd.read_csv(\"../Data/Jan_2016.csv\")[[\"ORIGIN_CITY_NAME\", \"AIRLINE_ID\", \"DEST_CITY_NAME\", \"WEATHER_DELAY\", \"FL_DATE\"]]\n",
    "airdata = pd.read_csv(\"../Data/Airline_LOV.csv\")[[\"AIRLINE_ID\", \"CARRIER_NAME\"]]\n",
    "df = DataFrame(data[data.apply(lambda x: x['ORIGIN_CITY_NAME'] == \"Boston, MA\", axis=1)])\n",
    "\n",
    "data.to_csv('newdata.csv', sep=',', encoding='utf-8')\n"
   ]
  },
  {
   "cell_type": "code",
   "execution_count": 26,
   "metadata": {
    "collapsed": false
   },
   "outputs": [],
   "source": [
    "df1 = airdata.drop_duplicates()\n",
    "\n"
   ]
  },
  {
   "cell_type": "code",
   "execution_count": 27,
   "metadata": {
    "collapsed": false
   },
   "outputs": [
    {
     "data": {
      "text/html": [
       "<div>\n",
       "<table border=\"1\" class=\"dataframe\">\n",
       "  <thead>\n",
       "    <tr style=\"text-align: right;\">\n",
       "      <th></th>\n",
       "      <th>CLDATE</th>\n",
       "      <th>SNWD</th>\n",
       "      <th>SNOW</th>\n",
       "    </tr>\n",
       "  </thead>\n",
       "  <tbody>\n",
       "    <tr>\n",
       "      <th>0</th>\n",
       "      <td>1/1/16</td>\n",
       "      <td>0.0</td>\n",
       "      <td>0.0</td>\n",
       "    </tr>\n",
       "    <tr>\n",
       "      <th>1</th>\n",
       "      <td>1/2/16</td>\n",
       "      <td>0.0</td>\n",
       "      <td>0.0</td>\n",
       "    </tr>\n",
       "    <tr>\n",
       "      <th>2</th>\n",
       "      <td>1/3/16</td>\n",
       "      <td>0.0</td>\n",
       "      <td>0.0</td>\n",
       "    </tr>\n",
       "    <tr>\n",
       "      <th>3</th>\n",
       "      <td>1/4/16</td>\n",
       "      <td>0.0</td>\n",
       "      <td>0.0</td>\n",
       "    </tr>\n",
       "    <tr>\n",
       "      <th>4</th>\n",
       "      <td>1/5/16</td>\n",
       "      <td>0.0</td>\n",
       "      <td>0.0</td>\n",
       "    </tr>\n",
       "  </tbody>\n",
       "</table>\n",
       "</div>"
      ],
      "text/plain": [
       "   CLDATE  SNWD  SNOW\n",
       "0  1/1/16   0.0   0.0\n",
       "1  1/2/16   0.0   0.0\n",
       "2  1/3/16   0.0   0.0\n",
       "3  1/4/16   0.0   0.0\n",
       "4  1/5/16   0.0   0.0"
      ]
     },
     "execution_count": 27,
     "metadata": {},
     "output_type": "execute_result"
    }
   ],
   "source": [
    "import datetime\n",
    "weatherdata = pd.read_csv(\"../Data/Weather data.csv\")[[\"CLDATE\", \"SNWD\", \"SNOW\"]]\n",
    "\n",
    "# df = DataFrame(weatherdata[weatherdata.apply(lambda x: x['CLDATE'] == \"\", axis=1)])\n",
    "weatherdata.head()"
   ]
  },
  {
   "cell_type": "code",
   "execution_count": 28,
   "metadata": {
    "collapsed": false
   },
   "outputs": [],
   "source": [
    "weatherdata['CLDATE']=pd.to_datetime(weatherdata['CLDATE']).dt.date\n",
    "df['FL_DATE']=pd.to_datetime(df['FL_DATE']).dt.date\n"
   ]
  },
  {
   "cell_type": "code",
   "execution_count": 29,
   "metadata": {
    "collapsed": false
   },
   "outputs": [
    {
     "data": {
      "text/html": [
       "<div>\n",
       "<table border=\"1\" class=\"dataframe\">\n",
       "  <thead>\n",
       "    <tr style=\"text-align: right;\">\n",
       "      <th></th>\n",
       "      <th>CLDATE</th>\n",
       "      <th>SNWD</th>\n",
       "      <th>SNOW</th>\n",
       "    </tr>\n",
       "  </thead>\n",
       "  <tbody>\n",
       "    <tr>\n",
       "      <th>0</th>\n",
       "      <td>2016-01-01</td>\n",
       "      <td>0.0</td>\n",
       "      <td>0.0</td>\n",
       "    </tr>\n",
       "    <tr>\n",
       "      <th>1</th>\n",
       "      <td>2016-01-02</td>\n",
       "      <td>0.0</td>\n",
       "      <td>0.0</td>\n",
       "    </tr>\n",
       "    <tr>\n",
       "      <th>2</th>\n",
       "      <td>2016-01-03</td>\n",
       "      <td>0.0</td>\n",
       "      <td>0.0</td>\n",
       "    </tr>\n",
       "    <tr>\n",
       "      <th>3</th>\n",
       "      <td>2016-01-04</td>\n",
       "      <td>0.0</td>\n",
       "      <td>0.0</td>\n",
       "    </tr>\n",
       "    <tr>\n",
       "      <th>4</th>\n",
       "      <td>2016-01-05</td>\n",
       "      <td>0.0</td>\n",
       "      <td>0.0</td>\n",
       "    </tr>\n",
       "  </tbody>\n",
       "</table>\n",
       "</div>"
      ],
      "text/plain": [
       "       CLDATE  SNWD  SNOW\n",
       "0  2016-01-01   0.0   0.0\n",
       "1  2016-01-02   0.0   0.0\n",
       "2  2016-01-03   0.0   0.0\n",
       "3  2016-01-04   0.0   0.0\n",
       "4  2016-01-05   0.0   0.0"
      ]
     },
     "execution_count": 29,
     "metadata": {},
     "output_type": "execute_result"
    }
   ],
   "source": [
    "weatherdata.head()"
   ]
  },
  {
   "cell_type": "code",
   "execution_count": 30,
   "metadata": {
    "collapsed": false
   },
   "outputs": [],
   "source": [
    "result=pd.merge(weatherdata, df, how = 'outer', left_on = 'CLDATE', right_on = 'FL_DATE')\n",
    "result.to_csv(\"weather.csv\")"
   ]
  },
  {
   "cell_type": "code",
   "execution_count": 32,
   "metadata": {
    "collapsed": false
   },
   "outputs": [
    {
     "data": {
      "text/html": [
       "<div>\n",
       "<table border=\"1\" class=\"dataframe\">\n",
       "  <thead>\n",
       "    <tr style=\"text-align: right;\">\n",
       "      <th></th>\n",
       "      <th>CLDATE</th>\n",
       "      <th>SNWD</th>\n",
       "      <th>SNOW</th>\n",
       "      <th>ORIGIN_CITY_NAME</th>\n",
       "      <th>AIRLINE_ID</th>\n",
       "      <th>DEST_CITY_NAME</th>\n",
       "      <th>WEATHER_DELAY</th>\n",
       "      <th>FL_DATE</th>\n",
       "    </tr>\n",
       "  </thead>\n",
       "  <tbody>\n",
       "    <tr>\n",
       "      <th>0</th>\n",
       "      <td>2016-01-01</td>\n",
       "      <td>0.0</td>\n",
       "      <td>0.0</td>\n",
       "      <td>Boston, MA</td>\n",
       "      <td>20416.0</td>\n",
       "      <td>Fort Myers, FL</td>\n",
       "      <td>0.0</td>\n",
       "      <td>2016-01-01</td>\n",
       "    </tr>\n",
       "    <tr>\n",
       "      <th>1</th>\n",
       "      <td>2016-01-01</td>\n",
       "      <td>0.0</td>\n",
       "      <td>0.0</td>\n",
       "      <td>Boston, MA</td>\n",
       "      <td>20416.0</td>\n",
       "      <td>Myrtle Beach, SC</td>\n",
       "      <td>0.0</td>\n",
       "      <td>2016-01-01</td>\n",
       "    </tr>\n",
       "    <tr>\n",
       "      <th>2</th>\n",
       "      <td>2016-01-01</td>\n",
       "      <td>0.0</td>\n",
       "      <td>0.0</td>\n",
       "      <td>Boston, MA</td>\n",
       "      <td>20416.0</td>\n",
       "      <td>Atlanta, GA</td>\n",
       "      <td>0.0</td>\n",
       "      <td>2016-01-01</td>\n",
       "    </tr>\n",
       "    <tr>\n",
       "      <th>3</th>\n",
       "      <td>2016-01-01</td>\n",
       "      <td>0.0</td>\n",
       "      <td>0.0</td>\n",
       "      <td>Boston, MA</td>\n",
       "      <td>20416.0</td>\n",
       "      <td>Fort Lauderdale, FL</td>\n",
       "      <td>0.0</td>\n",
       "      <td>2016-01-01</td>\n",
       "    </tr>\n",
       "    <tr>\n",
       "      <th>4</th>\n",
       "      <td>2016-01-01</td>\n",
       "      <td>0.0</td>\n",
       "      <td>0.0</td>\n",
       "      <td>Boston, MA</td>\n",
       "      <td>20416.0</td>\n",
       "      <td>Las Vegas, NV</td>\n",
       "      <td>0.0</td>\n",
       "      <td>2016-01-01</td>\n",
       "    </tr>\n",
       "  </tbody>\n",
       "</table>\n",
       "</div>"
      ],
      "text/plain": [
       "       CLDATE  SNWD  SNOW ORIGIN_CITY_NAME  AIRLINE_ID       DEST_CITY_NAME  \\\n",
       "0  2016-01-01   0.0   0.0       Boston, MA     20416.0       Fort Myers, FL   \n",
       "1  2016-01-01   0.0   0.0       Boston, MA     20416.0     Myrtle Beach, SC   \n",
       "2  2016-01-01   0.0   0.0       Boston, MA     20416.0          Atlanta, GA   \n",
       "3  2016-01-01   0.0   0.0       Boston, MA     20416.0  Fort Lauderdale, FL   \n",
       "4  2016-01-01   0.0   0.0       Boston, MA     20416.0        Las Vegas, NV   \n",
       "\n",
       "   WEATHER_DELAY     FL_DATE  \n",
       "0            0.0  2016-01-01  \n",
       "1            0.0  2016-01-01  \n",
       "2            0.0  2016-01-01  \n",
       "3            0.0  2016-01-01  \n",
       "4            0.0  2016-01-01  "
      ]
     },
     "execution_count": 32,
     "metadata": {},
     "output_type": "execute_result"
    }
   ],
   "source": [
    "result=result.fillna(0)\n",
    "result.head()"
   ]
  },
  {
   "cell_type": "code",
   "execution_count": 48,
   "metadata": {
    "collapsed": false
   },
   "outputs": [],
   "source": [
    "#Step 6 - Using Numpy Bins to Segregate Snow data\n",
    "import numpy as np\n",
    "import csv\n",
    "snowbins = [-1.0,0.0, 10.0, 20.0, 30.0]\n",
    "snowData=DataFrame(result,columns=['SNOW','WEATHER_DELAY'])\n",
    "snow_group_names = ['-1.0 - 0.0','0.0 - 10', '10 - 20', '20 - 30']\n",
    "snowData['conditions'] = pd.cut(snowData['SNOW'], snowbins, labels=snow_group_names)\n",
    "sp=snowData[['WEATHER_DELAY','conditions']].groupby(['conditions']).sum()\n",
    "sp=sp.reset_index()\n",
    "sp.to_csv(\"snow.csv\")"
   ]
  },
  {
   "cell_type": "code",
   "execution_count": 49,
   "metadata": {
    "collapsed": false
   },
   "outputs": [],
   "source": [
    "#Step 6 - Using Numpy Bins to Segregate SnowWind data\n",
    "import numpy as np\n",
    "wnbins = [-1.0,0.0, 10.0, 20.0, 30.0]\n",
    "wndData=DataFrame(result,columns=['SNWD','WEATHER_DELAY'])\n",
    "wnd_group_names = ['-1.0 - 0.0','0.0 - 10', '10 - 20', '20 - 30']\n",
    "wndData['conditions'] = pd.cut(wndData['SNWD'], wnbins, labels=wnd_group_names)\n",
    "wn=wndData[['WEATHER_DELAY','conditions']].groupby(['conditions']).sum()\n",
    "wn=wn.reset_index()\n",
    "wn.to_csv(\"snwd.csv\")"
   ]
  },
  {
   "cell_type": "code",
   "execution_count": 51,
   "metadata": {
    "collapsed": false
   },
   "outputs": [
    {
     "data": {
      "image/png": "[encoded data removed]",
      "text/plain": [
       "<matplotlib.figure.Figure at 0x10e264240>"
      ]
     },
     "metadata": {},
     "output_type": "display_data"
    }
   ],
   "source": [
    "#Plot of compare Climatic data Precipitation with Rides\n",
    "\n",
    "import matplotlib.pyplot as plt; plt.rcdefaults()\n",
    "import numpy as np\n",
    "import matplotlib.pyplot as plt\n",
    "sf=pd.read_csv(\"snow.csv\",sep=\",\")\n",
    "objects = sf['conditions'].tolist()\n",
    "y_pos = np.arange(len(objects))\n",
    "performance = sf['WEATHER_DELAY'].tolist()\n",
    " \n",
    "plt.bar(y_pos, performance, align='center', alpha=0.5)\n",
    "plt.xticks(y_pos, objects)\n",
    "plt.ylabel('Total Minutes Delayed')\n",
    "plt.xlabel(\"Snow Range\")\n",
    "plt.title(\"Snow and Minutes Delayed\")\n",
    "fig1 = plt.gcf()\n",
    "fig1.savefig(\"snow_minutes.png\")\n",
    "plt.show()"
   ]
  },
  {
   "cell_type": "code",
   "execution_count": 52,
   "metadata": {
    "collapsed": false
   },
   "outputs": [
    {
     "data": {
      "image/png": "[encoded data removed]",
      "text/plain": [
       "<matplotlib.figure.Figure at 0x10e550390>"
      ]
     },
     "metadata": {},
     "output_type": "display_data"
    }
   ],
   "source": [
    "#Plot of compare Climatic data Precipitation with Rides\n",
    "\n",
    "import matplotlib.pyplot as plt; plt.rcdefaults()\n",
    "import numpy as np\n",
    "import matplotlib.pyplot as plt\n",
    "sn=pd.read_csv(\"snwd.csv\",sep=\",\")\n",
    "objects = sn['conditions'].tolist()\n",
    "y_pos = np.arange(len(objects))\n",
    "performance = sn['WEATHER_DELAY'].tolist()\n",
    " \n",
    "plt.bar(y_pos, performance, align='center', alpha=0.5)\n",
    "plt.xticks(y_pos, objects)\n",
    "plt.ylabel('Total Minutes Delayed')\n",
    "plt.xlabel(\"Snow Wind Range\")\n",
    "plt.title(\"SnowWind and Minutes Delayed\")\n",
    "fig1 = plt.gcf()\n",
    "fig1.savefig(\"snow_wnd.png\")\n",
    "plt.show()"
   ]
  },
  {
   "cell_type": "code",
   "execution_count": null,
   "metadata": {
    "collapsed": true
   },
   "outputs": [],
   "source": []
  }
 ],
 "metadata": {
  "anaconda-cloud": {},
  "kernelspec": {
   "display_name": "Python 3",
   "language": "python",
   "name": "python3"
  },
  "language_info": {
   "codemirror_mode": {
    "name": "ipython",
    "version": 3
   },
   "file_extension": ".py",
   "mimetype": "text/x-python",
   "name": "python",
   "nbconvert_exporter": "python",
   "pygments_lexer": "ipython3",
   "version": "3.6.0"
  }
 },
 "nbformat": 4,
 "nbformat_minor": 1
}
