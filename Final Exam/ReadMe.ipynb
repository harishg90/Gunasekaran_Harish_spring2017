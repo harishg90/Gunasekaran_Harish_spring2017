{
 "cells": [
  {
   "cell_type": "markdown",
   "metadata": {},
   "source": [
    "# INFO 7374 - Data Analysis Using Python - Final Project\n",
    "\n",
    "## Domestic flight data analysis \n",
    "\n",
    "### The analysis done is to assess the performance of various carriers based on the delay, passengers travelled and net income. The analysis has been done for the date range of September 2016 and December 2016. Weather data and financial data has been correlated to infer the impact on the Carrier revenue.\n",
    "\n",
    "## Data Collection and Processing:\n",
    "\n",
    "### Step 1: Download dataset for flight performance, revenue and passenger count\n",
    "\n",
    "Data has been gathered in .csv format from transtats.bts.gov for the below records:\n",
    "\n",
    "1. The data of the flights operated everyday within the country was downloaded month wise for the period of Sep-2016 and Dec-2016 and saved in the Flight data folder.\n",
    "\n",
    "2. Number of passengers travelled on each carrier from Jan 2016 to Dec 2016.\n",
    "\n",
    "3. Net Income of carriers on each quarter.\n",
    "\n",
    "4. Daily Weather data of Boston from Jan 2016 to Dec 2016\n",
    "\n",
    "### Step 2: Data processing:\n",
    "\n",
    "1. The data \n",
    "\n",
    "2. "
   ]
  }
 ],
 "metadata": {
  "kernelspec": {
   "display_name": "Python [conda root]",
   "language": "python",
   "name": "conda-root-py"
  },
  "language_info": {
   "codemirror_mode": {
    "name": "ipython",
    "version": 3
   },
   "file_extension": ".py",
   "mimetype": "text/x-python",
   "name": "python",
   "nbconvert_exporter": "python",
   "pygments_lexer": "ipython3",
   "version": "3.5.2"
  }
 },
 "nbformat": 4,
 "nbformat_minor": 1
}
