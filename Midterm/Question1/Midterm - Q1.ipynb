{
 "cells": [
  {
   "cell_type": "code",
   "execution_count": 3,
   "metadata": {
    "collapsed": false,
    "scrolled": true
   },
   "outputs": [],
   "source": [
    "#Get the list of email recipients and the count of emails that were sent by Jeff Stelling when he was a CEO\n",
    "\n",
    "import email\n",
    "import glob\n",
    "import operator\n",
    "import string\n",
    "from datetime import datetime,date,timedelta\n",
    "from email.parser import Parser\n",
    "parser=Parser()\n",
    "\n",
    "email_dict={}\n",
    "email_dir=\"C:/Users/ABC/midterm/data/enron/maildir/skilling-j/sent/*\"\n",
    "for filename in glob.iglob(email_dir):\n",
    "    with open(filename,'r') as f:\n",
    "        content=Parser().parsestr(f.read())\n",
    "        toEmail=content['To']\n",
    "        min_date=date(2001,2,17)\n",
    "        max_date=date(2001,8,14)\n",
    "        dateEmail=content['Date'][:-6]\n",
    "        dat=datetime.strptime(dateEmail,'%a, %d %b %Y %H:%M:%S %z').date()\n",
    "        if(toEmail!=None and (min_date<dat<max_date)):\n",
    "            emailIds=toEmail.replace(\"\\n\\t\",\"\").split(\",\")\n",
    "            for x in emailIds:\n",
    "                if x not in email_dict:\n",
    "                    email_dict[x]=1\n",
    "                else:\n",
    "                    email_dict[x]+=1\n",
    "sorted_List=sorted(email_dict.items(), key=operator.itemgetter(1),reverse=True)\n",
    "\n",
    "with open('SentbySkilling.csv', 'w',newline='') as csvfile:\n",
    "    fieldnames = ['Recipient', 'Count']\n",
    "    writer = csv.DictWriter(csvfile, fieldnames=fieldnames,extrasaction='ignore')\n",
    "    writer.writeheader()\n",
    "    for key,value in sorted_List:\n",
    "        writer.writerow({'Recipient': key,'Count':value})        "
   ]
  },
  {
   "cell_type": "code",
   "execution_count": 1,
   "metadata": {
    "collapsed": false
   },
   "outputs": [],
   "source": [
    "#Analysis 2 - List of emails related to stocks\n",
    "\n",
    "import email\n",
    "import glob\n",
    "import operator\n",
    "import string\n",
    "import csv\n",
    "from datetime import datetime\n",
    "from email.parser import Parser\n",
    "parser=Parser()\n",
    "\n",
    "stock_words=[\"share\", \"market value\", \"stock\", \"price\", \"broker\", \"commodities\", \"securities\"]\n",
    "email_dir=\"C:/Users/ABC/midterm/data/enron/maildir/*/*sent/*\"\n",
    "stock_email=0\n",
    "email_subjects=[]\n",
    "for filename in glob.iglob(email_dir):\n",
    "    with open(filename,'r') as f:\n",
    "        content=Parser().parsestr(f.read())\n",
    "        body=content.get_payload()\n",
    "        for x in stock_words:\n",
    "            if x in body:\n",
    "                stock_email+=1\n",
    "                email_subjects.append(content['subject'])\n",
    "                \n",
    "with open('StockEmails.csv', 'w',newline='') as csvfile:\n",
    "    fieldnames = ['Subject']\n",
    "    writer = csv.DictWriter(csvfile, fieldnames=fieldnames,extrasaction='ignore')\n",
    "    writer.writeheader()\n",
    "    for value in email_subjects:\n",
    "        writer.writerow({'Subject': value})"
   ]
  },
  {
   "cell_type": "code",
   "execution_count": null,
   "metadata": {
    "collapsed": true
   },
   "outputs": [],
   "source": []
  },
  {
   "cell_type": "code",
   "execution_count": 9,
   "metadata": {
    "collapsed": false
   },
   "outputs": [],
   "source": [
    "#Analysis 1 - Emails to CEO Jeffrey Skilling\n",
    "\n",
    "import glob\n",
    "import re\n",
    "emailTo_dir={}\n",
    "from email.parser import Parser\n",
    "for name in glob.iglob(\"C:/Users/ABC/midterm/data/enron/maildir/*/_sent_mail/*\"):\n",
    "    with open(name,'r') as f:\n",
    "        email=Parser().parsestr(f.read())\n",
    "        if (email['To']!=None):\n",
    "            list1=[]\n",
    "            list1=re.sub(r\"\\s+\",\"\", email['To'])\n",
    "            for x in list1.split(','):\n",
    "                if 'jeff.skilling@enron.com' in x:\n",
    "                    str=email['From']+\",\"+x\n",
    "                    if str not in emailTo_dir:\n",
    "                        emailTo_dir[str]=1\n",
    "                    else:\n",
    "                        emailTo_dir[str]=1+emailTo_dir[str]\n",
    "                        \n",
    "with open('SentToSkilling.csv', 'w',newline='') as csvfile:\n",
    "    fieldnames = ['Recipient', 'Count']\n",
    "    writer = csv.DictWriter(csvfile, fieldnames=fieldnames,extrasaction='ignore')\n",
    "    writer.writeheader()\n",
    "    for key in emailTo_dir:\n",
    "        writer.writerow({'Recipient': key,'Count':emailTo_dir[key]})  "
   ]
  },
  {
   "cell_type": "code",
   "execution_count": 7,
   "metadata": {
    "collapsed": false,
    "scrolled": false
   },
   "outputs": [],
   "source": [
    "# Analysis 3 - Get the recipients from a list and return the names between whom the max emails has been sent \n",
    "\n",
    "import email\n",
    "import glob\n",
    "import operator\n",
    "import string\n",
    "import re\n",
    "import csv\n",
    "from datetime import datetime\n",
    "from email.parser import Parser\n",
    "parser=Parser()\n",
    "dictEmail={}\n",
    "executiveList=['kenneth.lay@enron.com', 'jeff.skilling@enron.com', 'kay.mann@enron.com', 'reagan.rorschah@enron.com', 'benjamin.rogers@enron.com']\n",
    "email_dir=\"C:/Users/ABC/midterm/data/enron/maildir/*/_sent_mail/*\"\n",
    "for filename in glob.iglob(email_dir):\n",
    "    with open(filename,'r') as f:\n",
    "        content=Parser().parsestr(f.read())\n",
    "        emailTo=content['To']\n",
    "        emailFrom=content['From']\n",
    "        if (emailTo!=None):\n",
    "            tolist1=[]\n",
    "            tolist1=re.sub(r\"\\s+\",\"\", emailTo)\n",
    "            for to in tolist1.split(','):\n",
    "                for email in executiveList:\n",
    "                    if to == email:\n",
    "                        for emailFr in executiveList:\n",
    "                            if emailFrom == emailFr:\n",
    "                                email=emailFrom+\",\"+to\n",
    "                                if email not in dictEmail:\n",
    "                                    dictEmail[email]=1\n",
    "                                else:\n",
    "                                    dictEmail[email]+=1\n",
    "with open('MaxEmail.csv', 'w',newline='') as csvfile:\n",
    "    fieldnames = ['Recipients', 'Count']\n",
    "    writer = csv.DictWriter(csvfile, fieldnames=fieldnames,extrasaction='ignore')\n",
    "    writer.writeheader()\n",
    "    for key in dictEmail:\n",
    "        writer.writerow({'Recipients': key,'Count':dictEmail[key]})  "
   ]
  },
  {
   "cell_type": "code",
   "execution_count": null,
   "metadata": {
    "collapsed": false
   },
   "outputs": [],
   "source": [
    "\n",
    "    "
   ]
  },
  {
   "cell_type": "code",
   "execution_count": null,
   "metadata": {
    "collapsed": true
   },
   "outputs": [],
   "source": []
  }
 ],
 "metadata": {
  "anaconda-cloud": {},
  "kernelspec": {
   "display_name": "Python [conda root]",
   "language": "python",
   "name": "conda-root-py"
  },
  "language_info": {
   "codemirror_mode": {
    "name": "ipython",
    "version": 3
   },
   "file_extension": ".py",
   "mimetype": "text/x-python",
   "name": "python",
   "nbconvert_exporter": "python",
   "pygments_lexer": "ipython3",
   "version": "3.5.2"
  }
 },
 "nbformat": 4,
 "nbformat_minor": 1
}
