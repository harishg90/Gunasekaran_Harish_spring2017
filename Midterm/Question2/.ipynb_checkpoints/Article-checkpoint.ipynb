{
 "cells": [
  {
   "cell_type": "code",
   "execution_count": 7,
   "metadata": {
    "collapsed": false
   },
   "outputs": [],
   "source": [
    "#Data to extract premier league football related articles\n",
    "\n",
    "import argparse\n",
    "import requests\n",
    "import os\n",
    "import json\n",
    "import time\n",
    "url=\"https://api.nytimes.com/svc/search/v2/articlesearch.json\"\n",
    "topic = 'premier%20%league'\n",
    "beginDate = 20160101\n",
    "endDate = 20170101\n",
    "nyt_key=os.environ['nyt_key']\n",
    "directory = \"../data/Article/PremierLeague\"\n",
    "\n",
    "count=1\n",
    "for i in range(0,1):\n",
    "    articleList=[]\n",
    "    articleList=requests.get(url+'?&q=premier%20%league&begin_date='+str(beginDate)+'&end_date='+str(endDate)+'&page='+str(i)+'&api-key='+nyt_key).json()\n",
    "    with open(directory+'\\\\'+'premier_league_Article'+str(count)+'.json','w') as outfile:\n",
    "        json.dump(articleList['response']['docs'],outfile)\n",
    "        count=count+1\n",
    "        time.sleep(5)"
   ]
  },
  {
   "cell_type": "code",
   "execution_count": 8,
   "metadata": {
    "collapsed": false
   },
   "outputs": [],
   "source": [
    "#Analysis 1\n",
    "\n",
    "import glob\n",
    "import json\n",
    "import operator\n",
    "import csv\n",
    "\n",
    "teamList=['Arsenal', 'Chelsea', 'Liverpool', 'Manchester United', 'Manchester City', 'Tottenham', 'Everton', 'Southampton', 'Leicester', 'Hull','Burnley', 'Sunderland', 'Newcastle', 'Bournemouth', 'Stoke', 'West Brom', 'Swansea', 'Crystal Palace', 'West Ham']\n",
    "json_dir = \"../data/Article/PremierLeague/*.json\"\n",
    "eplTeam_dict={}\n",
    "for files in glob.iglob(json_dir):\n",
    "        with open(files,'r') as f:\n",
    "            json_data=json.load(f)\n",
    "            for data in json_data:\n",
    "                for x in teamList:\n",
    "                    if x in data['snippet']:\n",
    "                        if x not in eplTeam_dict:\n",
    "                            eplTeam_dict[x]=1\n",
    "                        else:\n",
    "                            eplTeam_dict[x]+=1\n",
    "sorted_Team=sorted(eplTeam_dict.items(), key=lambda x:x[1],reverse=True)  \n",
    "\n",
    "with open('HighestTeamArticle.csv', 'w',newline='') as csvfile:\n",
    "    fieldnames = ['Team', 'Count']\n",
    "    writer = csv.DictWriter(csvfile, fieldnames=fieldnames,extrasaction='ignore')\n",
    "    writer.writeheader()\n",
    "    for key,value in sorted_Team:\n",
    "        writer.writerow({'Team': key,'Count':value})"
   ]
  },
  {
   "cell_type": "code",
   "execution_count": 10,
   "metadata": {
    "collapsed": false
   },
   "outputs": [],
   "source": [
    "#Data to extract terror attack related articles\n",
    "\n",
    "import argparse\n",
    "import requests\n",
    "import os\n",
    "import json\n",
    "import time\n",
    "url=\"https://api.nytimes.com/svc/search/v2/articlesearch.json\"\n",
    "topic = 'terrorism'\n",
    "beginDate = 20160101\n",
    "endDate = 20170101\n",
    "apiKey = '0cf16df722334742977f88a384f2a289'\n",
    "directory = \"../data/Article/Terrorist_Attacks\"\n",
    "\n",
    "if not os.path.exists(directory):\n",
    "    os.makedirs(directory)\n",
    "\n",
    "count=80\n",
    "for i in range(81,115):\n",
    "    articleList=[]\n",
    "    articleList=requests.get(url+'?&q='+topic+'&begin_date='+str(beginDate)+'&end_date='+str(endDate)+'&page='+str(i)+'&api-key='+apiKey).json()\n",
    "    with open(directory+'\\\\'+'Terrorism'+str(count)+'.json','w') as outfile:\n",
    "        json.dump(articleList['response']['docs'],outfile)\n",
    "        count=count+1\n",
    "        time.sleep(5)"
   ]
  },
  {
   "cell_type": "code",
   "execution_count": 24,
   "metadata": {
    "collapsed": false
   },
   "outputs": [],
   "source": [
    "#Analysis 2\n",
    "\n",
    "import glob\n",
    "import json\n",
    "import operator\n",
    "import csv\n",
    "\n",
    "\n",
    "import json\n",
    "countryDict={}\n",
    "for filename in glob.iglob('../data/Article/Terrorist_Attacks/*'):\n",
    "    with open(filename,'r') as f:\n",
    "        data=json.load(f)\n",
    "        for keyword in data[0]['keywords']:\n",
    "            if keyword['name'] == 'glocations':\n",
    "                if keyword['value'] not in countryDict:\n",
    "                    countryDict[keyword['value']]=1;\n",
    "                else:\n",
    "                    countryDict[keyword['value']]+=1;\n",
    "\n",
    "with open('Country.csv', 'w',newline='') as csvfile:\n",
    "    fieldnames = ['Country', 'Count']\n",
    "    writer = csv.DictWriter(csvfile, fieldnames=fieldnames,extrasaction='ignore')\n",
    "    writer.writeheader()\n",
    "    for key in countryDict:\n",
    "        writer.writerow({'Country': key,'Count':countryDict[key]})"
   ]
  }
 ],
 "metadata": {
  "anaconda-cloud": {},
  "kernelspec": {
   "display_name": "Python [default]",
   "language": "python",
   "name": "python3"
  },
  "language_info": {
   "codemirror_mode": {
    "name": "ipython",
    "version": 3
   },
   "file_extension": ".py",
   "mimetype": "text/x-python",
   "name": "python",
   "nbconvert_exporter": "python",
   "pygments_lexer": "ipython3",
   "version": "3.5.2"
  }
 },
 "nbformat": 4,
 "nbformat_minor": 1
}
