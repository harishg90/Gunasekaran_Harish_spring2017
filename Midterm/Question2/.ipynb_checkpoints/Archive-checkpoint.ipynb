{
 "cells": [
  {
   "cell_type": "code",
   "execution_count": 2,
   "metadata": {
    "collapsed": false
   },
   "outputs": [],
   "source": [
    "# Get the archives for the Month of Jan 2016\n",
    "\n",
    "import requests\n",
    "import json\n",
    "import os\n",
    "import time\n",
    "url = \"https://api.nytimes.com/svc/archive/v1/2016/1.json\"\n",
    "apikey=\"0cf16df722334742977f88a384f2a289\"\n",
    "year=2016\n",
    "dir='../data'\n",
    "archiveDirectory=dir+'/'+'Archive'\n",
    "\n",
    "#Create the Directory Structure\n",
    "\n",
    "if not os.path.exists(archiveDirectory):\n",
    "    os.makedirs(archiveDirectory)\n",
    "\n",
    "count=1\n",
    "for i in range(1,2):\n",
    "    articles=[]\n",
    "    articles=requests.get(url+'?year=+'+str(year)+'&month='+str(i)+'&api-key='+apikey).json()\n",
    "    for article in articles['response']['docs']:\n",
    "        with open(archiveDirectory+'\\\\'+'archive_data_jan_month_'+str(count)+'.json', 'w') as outfile:\n",
    "            json.dump(article, outfile)\n",
    "            count=count+1\n",
    "        "
   ]
  },
  {
   "cell_type": "code",
   "execution_count": 3,
   "metadata": {
    "collapsed": false
   },
   "outputs": [],
   "source": [
    "#Analysis 3\n",
    "\n",
    "import json\n",
    "import glob\n",
    "import os\n",
    "import csv\n",
    "count=0\n",
    "sectionNews={}\n",
    "subSectionNews={}\n",
    "for name in glob.glob('../data/Archive/*.json'):\n",
    "    with open(name,'r') as f:\n",
    "        data=json.load(f)\n",
    "        sectionName=data['section_name']\n",
    "        sub_section_Name=data['subsection_name']\n",
    "        if sectionName not in sectionNews:\n",
    "            sectionNews.setdefault(sectionName,{})\n",
    "            subSectionHash=sectionNews[sectionName]\n",
    "            if sub_section_Name not in subSectionHash:\n",
    "                subSectionHash[sub_section_Name]=1\n",
    "            else:\n",
    "                subSectionHash[sub_section_Name]+=1\n",
    "            sectionNews[sectionName]=subSectionHash\n",
    "        else:\n",
    "            subSectionHash=sectionNews[sectionName]\n",
    "            if sub_section_Name not in subSectionHash:\n",
    "                subSectionHash[sub_section_Name]=1\n",
    "            else:\n",
    "                subSectionHash[sub_section_Name]+=1\n",
    "            sectionNews[sectionName]=subSectionHash\n",
    "    \n",
    "\n",
    "with open('ArchivalAnalysis.csv', 'w',newline='') as csvfile:\n",
    "    fieldnames = ['Section', 'Count','Subclassification']\n",
    "    writer = csv.DictWriter(csvfile, fieldnames=fieldnames,extrasaction='ignore')\n",
    "    writer.writeheader()\n",
    "    for news in sectionNews:\n",
    "        subclassfication=\"\"\n",
    "        totalCount=0\n",
    "        subsection=sectionNews[news]\n",
    "        for sub in subsection:\n",
    "            if sub is None:\n",
    "                subTemp=str(news)\n",
    "                subclassfication+=subTemp+\"/\"+str(subsection[sub])+\",\"\n",
    "            else:\n",
    "                subclassfication+=sub+\"/\"+str(subsection[sub])+\",\"\n",
    "            totalCount+=subsection[sub]\n",
    "        writer.writerow({'Section': news,'Count':totalCount,'Subclassification':subclassfication})\n",
    "\n",
    "            \n",
    "\n",
    "        "
   ]
  }
 ],
 "metadata": {
  "anaconda-cloud": {},
  "kernelspec": {
   "display_name": "Python [conda root]",
   "language": "python",
   "name": "conda-root-py"
  },
  "language_info": {
   "codemirror_mode": {
    "name": "ipython",
    "version": 3
   },
   "file_extension": ".py",
   "mimetype": "text/x-python",
   "name": "python",
   "nbconvert_exporter": "python",
   "pygments_lexer": "ipython3",
   "version": "3.5.2"
  }
 },
 "nbformat": 4,
 "nbformat_minor": 1
}
