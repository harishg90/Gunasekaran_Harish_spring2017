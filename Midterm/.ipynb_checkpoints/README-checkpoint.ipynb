{
 "cells": [
  {
   "cell_type": "markdown",
   "metadata": {},
   "source": [
    "## Data Analysis using Python\n",
    "\n",
    "## Midterm Question 1\n",
    "\n",
    "### Analysis 1:\n",
    "#### a) Get the number of emails sent by Jeff Skilling when he was CEO (Feb 2001 and Aug 2001) and group by the email recipients. Output file (SentbySkilling) contains the list of email IDs and the count of emails that were sent by Jeff Skilling\n",
    "#### b) Get the list of emails sent to Jeff Skilling. Output file (SentToSkilling) contains the list of email IDs and count of emails that were sent to Jeff Skilling\n",
    "\n",
    "### Analysis 2:\n",
    "#### Initialized a list with words related to Stocks. Iterated through all emails and displayed the subject content of all emails that have keywords related to stocks. Output file has the Subject of emails that have keywords related to Stocks.\n",
    "\n",
    "### Analysis 3:\n",
    "#### Initialized a list with 5 email IDs. Returned the email IDs between whom the maximum number of emails were sent. The email IDs that were specified in the list were considered for the analysis. This can be done for any number of email IDs.\n",
    "\n",
    "## Midterm Question 2\n",
    "\n",
    "### Analysis 1:\n",
    "#### Article Search - Retreived articles related to English Premier League football for the date range of Jan-01, 2016 to Jan-01, 2017. Analyzed the number of articles that were published for each team using the snippet tag from the json file. The output file (HighestTeamArticle) contains the team name and the count of articles for the team and sorted them by the count.\n",
    "\n",
    "### Analysis 2:\n",
    "#### Article Search - Retreived the articles related to terrorism for the date range of Jan-01, 2016 to Jan-01, 2017. Using the geolocation name tag, the count of articles related to terrorism was sorted based on the location. Output file (Country) contains the location name and the count of articles.\n",
    "\n",
    "### Analysis 3:\n",
    "#### Archive Search - Collected the articles from Archives for the month of Jan 2016 and categorized them based on the news section. The news section has been classified further into sub categories and the count of each has been taken. Output file (ArchivalAnalysis) has the section, sub-categories and the count of articles for the sub category."
   ]
  }
 ],
 "metadata": {
  "anaconda-cloud": {},
  "kernelspec": {
   "display_name": "Python [default]",
   "language": "python",
   "name": "python3"
  },
  "language_info": {
   "codemirror_mode": {
    "name": "ipython",
    "version": 3
   },
   "file_extension": ".py",
   "mimetype": "text/x-python",
   "name": "python",
   "nbconvert_exporter": "python",
   "pygments_lexer": "ipython3",
   "version": "3.5.2"
  }
 },
 "nbformat": 4,
 "nbformat_minor": 1
}
