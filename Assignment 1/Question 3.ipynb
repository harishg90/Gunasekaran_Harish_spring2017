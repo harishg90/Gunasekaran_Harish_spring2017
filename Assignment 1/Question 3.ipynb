{
 "cells": [
  {
   "cell_type": "code",
   "execution_count": 10,
   "metadata": {
    "collapsed": false
   },
   "outputs": [
    {
     "name": "stdout",
     "output_type": "stream",
     "text": [
      "JACK SPARROW is the leading character\n"
     ]
    }
   ],
   "source": [
    "import nltk\n",
    "raw_txt=nltk.corpus.webtext.raw('pirates.txt')\n",
    "jack_txt=raw_txt.count('JACK SPARROW')\n",
    "turner_txt=raw_txt.count('WILL TURNER')\n",
    "if (jack_txt>turner_txt):\n",
    "    print('JACK SPARROW is the leading character')\n",
    "else:\n",
    "    print('WILL TURNER is the leading character')"
   ]
  },
  {
   "cell_type": "code",
   "execution_count": null,
   "metadata": {
    "collapsed": true
   },
   "outputs": [],
   "source": []
  }
 ],
 "metadata": {
  "kernelspec": {
   "display_name": "Python [conda root]",
   "language": "python",
   "name": "conda-root-py"
  },
  "language_info": {
   "codemirror_mode": {
    "name": "ipython",
    "version": 3
   },
   "file_extension": ".py",
   "mimetype": "text/x-python",
   "name": "python",
   "nbconvert_exporter": "python",
   "pygments_lexer": "ipython3",
   "version": "3.5.2"
  }
 },
 "nbformat": 4,
 "nbformat_minor": 1
}
