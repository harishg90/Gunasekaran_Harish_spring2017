{
 "cells": [
  {
   "cell_type": "code",
   "execution_count": 28,
   "metadata": {
    "collapsed": false
   },
   "outputs": [
    {
     "name": "stdout",
     "output_type": "stream",
     "text": [
      "a Male 1.609322974472808 Female 98.3906770255272\n",
      "b Male 70.0 Female 30.0\n",
      "c Male 100.0 Female 0.0\n",
      "d Male 85.3932584269663 Female 14.606741573033707\n",
      "e Male 24.63157894736842 Female 75.36842105263158\n",
      "f Male 92.5925925925926 Female 7.407407407407407\n",
      "g Male 76.19047619047619 Female 23.80952380952381\n",
      "h Male 46.96969696969697 Female 53.03030303030303\n",
      "i Male 13.623978201634877 Female 86.37602179836512\n",
      "j Male 75.0 Female 25.0\n",
      "k Male 95.83333333333333 Female 4.166666666666667\n",
      "l Male 51.09289617486339 Female 48.90710382513661\n",
      "m Male 84.33734939759036 Female 15.662650602409638\n",
      "n Male 55.324074074074076 Female 44.675925925925924\n",
      "o Male 83.33333333333333 Female 16.666666666666668\n",
      "p Male 90.0 Female 10.0\n",
      "r Male 80.16877637130801 Female 19.831223628691983\n",
      "s Male 71.20743034055728 Female 28.792569659442723\n",
      "t Male 70.6896551724138 Female 29.310344827586206\n",
      "u Male 66.66666666666667 Female 33.333333333333336\n",
      "v Male 88.88888888888889 Female 11.11111111111111\n",
      "w Male 77.27272727272727 Female 22.727272727272727\n",
      "x Male 50.0 Female 50.0\n",
      "y Male 41.86633039092055 Female 58.13366960907945\n",
      "z Male 73.33333333333333 Female 26.666666666666668\n"
     ]
    }
   ],
   "source": [
    "import nltk\n",
    "nameids=nltk.corpus.names.fileids()\n",
    "male_names=nltk.corpus.names.words('male.txt')\n",
    "female_names=nltk.corpus.names.words('female.txt')\n",
    "males={}\n",
    "females={}\n",
    "L=['a','b','c','d','e','f','g','h','i','j','k','l','m','n','o','p','q','r','s','t','u','v','w','x','y','z']\n",
    "for alp in L:\n",
    "    for x in male_names:\n",
    "        if x.endswith(alp):\n",
    "            if alp in males:\n",
    "                males[alp]+=1\n",
    "            else:\n",
    "                males[alp]=1\n",
    "    for y in female_names:    \n",
    "        if y.endswith(alp):\n",
    "            if alp in females:\n",
    "                females[alp]+=1\n",
    "            else:\n",
    "                females[alp]=1\n",
    "    if alp not in males:\n",
    "        males[alp]=0\n",
    "    if alp not in females:\n",
    "        females[alp]=0\n",
    "    tname=males[alp]+females[alp]\n",
    "    if tname!=0:\n",
    "        male_percent=(100*males[alp])/tname\n",
    "        female_percent=(100*females[alp])/tname\n",
    "        print(alp ,'Male', male_percent,'Female',  female_percent)"
   ]
  },
  {
   "cell_type": "code",
   "execution_count": null,
   "metadata": {
    "collapsed": true
   },
   "outputs": [],
   "source": []
  }
 ],
 "metadata": {
  "kernelspec": {
   "display_name": "Python [conda root]",
   "language": "python",
   "name": "conda-root-py"
  },
  "language_info": {
   "codemirror_mode": {
    "name": "ipython",
    "version": 3
   },
   "file_extension": ".py",
   "mimetype": "text/x-python",
   "name": "python",
   "nbconvert_exporter": "python",
   "pygments_lexer": "ipython3",
   "version": "3.5.2"
  }
 },
 "nbformat": 4,
 "nbformat_minor": 1
}
