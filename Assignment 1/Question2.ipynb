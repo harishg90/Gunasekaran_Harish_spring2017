{
 "cells": [
  {
   "cell_type": "code",
   "execution_count": 15,
   "metadata": {
    "collapsed": false
   },
   "outputs": [
    {
     "name": "stdout",
     "output_type": "stream",
     "text": [
      "[('e', 117092), ('t', 87996), ('a', 77916), ('o', 69326), ('n', 65617), ('i', 65434), ('s', 64231), ('h', 62896), ('r', 52134), ('l', 42793), ('d', 38219), ('u', 26697), ('m', 23277), ('c', 22507), ('w', 22222), ('f', 20833), ('g', 20820), ('p', 17255), ('b', 16877), ('y', 16872), ('v', 8598), ('k', 8059), ('q', 1556), ('j', 1082), ('x', 1030), ('z', 632)]\n"
     ]
    }
   ],
   "source": [
    "import nltk\n",
    "import operator\n",
    "raw_txt = nltk.corpus.gutenberg.raw('melville-moby_dick.txt').lower()\n",
    "words_txt = nltk.corpus.gutenberg.words('melville-moby_dick.txt')\n",
    "L=['a','b','c','d','e','f','g','h','i','j','k','l','m','n','o','p','q','r','s','t','u','v','w','x','y','z']\n",
    "alphabets_dict={}\n",
    "for x in L:\n",
    "    alphabets_dict[x]=raw_txt.count(x)\n",
    "print(sorted(alphabets_dict.items(),key=operator.itemgetter(1),reverse=True))"
   ]
  },
  {
   "cell_type": "code",
   "execution_count": null,
   "metadata": {
    "collapsed": true
   },
   "outputs": [],
   "source": []
  }
 ],
 "metadata": {
  "kernelspec": {
   "display_name": "Python [conda root]",
   "language": "python",
   "name": "conda-root-py"
  },
  "language_info": {
   "codemirror_mode": {
    "name": "ipython",
    "version": 3
   },
   "file_extension": ".py",
   "mimetype": "text/x-python",
   "name": "python",
   "nbconvert_exporter": "python",
   "pygments_lexer": "ipython3",
   "version": "3.5.2"
  }
 },
 "nbformat": 4,
 "nbformat_minor": 1
}
