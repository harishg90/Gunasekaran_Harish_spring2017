{
 "cells": [
  {
   "cell_type": "code",
   "execution_count": 14,
   "metadata": {
    "collapsed": false
   },
   "outputs": [
    {
     "name": "stdout",
     "output_type": "stream",
     "text": [
      "132\n"
     ]
    }
   ],
   "source": [
    "import nltk\n",
    "count=0\n",
    "import xml.etree.ElementTree\n",
    "from xml.etree import cElementTree as ET\n",
    "files=nltk.corpus.nps_chat.fileids()\n",
    "for id in files:\n",
    "    rawtxt=nltk.corpus.nps_chat.raw(id)\n",
    "    xml_read=ET.fromstring(rawtxt)\n",
    "    for x in xml_read.iter('Post'):\n",
    "        if 'User121' in x.get('user'):\n",
    "            count+=1\n",
    "print(count)\n",
    "    "
   ]
  },
  {
   "cell_type": "code",
   "execution_count": null,
   "metadata": {
    "collapsed": true
   },
   "outputs": [],
   "source": []
  }
 ],
 "metadata": {
  "kernelspec": {
   "display_name": "Python [conda root]",
   "language": "python",
   "name": "conda-root-py"
  },
  "language_info": {
   "codemirror_mode": {
    "name": "ipython",
    "version": 3
   },
   "file_extension": ".py",
   "mimetype": "text/x-python",
   "name": "python",
   "nbconvert_exporter": "python",
   "pygments_lexer": "ipython3",
   "version": "3.5.2"
  }
 },
 "nbformat": 4,
 "nbformat_minor": 1
}
