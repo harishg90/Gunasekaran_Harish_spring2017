{
 "cells": [
  {
   "cell_type": "code",
   "execution_count": 23,
   "metadata": {
    "collapsed": false
   },
   "outputs": [
    {
     "name": "stdout",
     "output_type": "stream",
     "text": [
      "69340\n",
      "[('the', 1893), ('I', 1417), ('and', 1391), ('to', 1257), ('of', 1227), ('you', 1005), ('a', 903), ('my', 793), ('in', 736), ('is', 700), ('not', 690), ('d', 662), ('it', 658), ('And', 645), ('that', 615), ('his', 545), ('me', 525), ('your', 480), ('with', 477), ('this', 452), ('him', 433), ('be', 432), ('haue', 406), ('for', 369), ('he', 365), ('Ham', 337), ('The', 327), ('so', 324), ('will', 322), ('s', 301), ('our', 300), ('as', 297), ('Lord', 293), ('That', 289), ('but', 274), ('are', 272), ('on', 260), ('shall', 259), ('To', 258), ('thou', 256), ('all', 252), ('do', 245), ('What', 239), ('we', 237), ('But', 236), ('King', 231), ('Enter', 225), ('what', 219), ('by', 209), ('no', 207)]\n",
      "Top 5 not used words are:\n",
      "['haue', 'Ham']\n"
     ]
    }
   ],
   "source": [
    "import nltk\n",
    "import operator\n",
    "from nltk.corpus import stopwords\n",
    "files=nltk.corpus.gutenberg.fileids()\n",
    "wordlist=nltk.corpus.webtext.words()\n",
    "speare_word=[]\n",
    "shakespeare_freqwords={}\n",
    "for file in files:\n",
    "    if file.startswith('shakespeare'):\n",
    "        for word in nltk.corpus.gutenberg.words(file):\n",
    "            if word.isalpha():\n",
    "                    speare_word.append(word)\n",
    "print(len(speare_word)) \n",
    "for x in speare_word:\n",
    "    if x not in shakespeare_freqwords:\n",
    "        shakespeare_freqwords[x]=1\n",
    "    else:\n",
    "        shakespeare_freqwords[x]+=1\n",
    "sorted_word=sorted(shakespeare_freqwords.items(),key=operator.itemgetter(1),reverse=True) \n",
    "print(sorted_word[0:50])\n",
    "shakespeare_usedwords=[]\n",
    "for x in sorted_word[0:50]:\n",
    "    if x[0] not in set(wordlist):\n",
    "        shakespeare_usedwords.append(x[0])        \n",
    "print(\"Top 5 not used words are:\")\n",
    "print(shakespeare_usedwords[:5])"
   ]
  },
  {
   "cell_type": "code",
   "execution_count": null,
   "metadata": {
    "collapsed": true
   },
   "outputs": [],
   "source": []
  },
  {
   "cell_type": "code",
   "execution_count": null,
   "metadata": {
    "collapsed": true
   },
   "outputs": [],
   "source": []
  }
 ],
 "metadata": {
  "kernelspec": {
   "display_name": "Python [conda root]",
   "language": "python",
   "name": "conda-root-py"
  },
  "language_info": {
   "codemirror_mode": {
    "name": "ipython",
    "version": 3
   },
   "file_extension": ".py",
   "mimetype": "text/x-python",
   "name": "python",
   "nbconvert_exporter": "python",
   "pygments_lexer": "ipython3",
   "version": "3.5.2"
  }
 },
 "nbformat": 4,
 "nbformat_minor": 1
}
