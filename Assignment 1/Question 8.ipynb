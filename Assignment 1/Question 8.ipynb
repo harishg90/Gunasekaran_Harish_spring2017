{
 "cells": [
  {
   "cell_type": "code",
   "execution_count": 9,
   "metadata": {
    "collapsed": false
   },
   "outputs": [
    {
     "name": "stdout",
     "output_type": "stream",
     "text": [
      "236736\n",
      "6066\n",
      "3637\n"
     ]
    }
   ],
   "source": [
    "import nltk\n",
    "wordslist=nltk.corpus.words.words()\n",
    "nps_words=nltk.corpus.nps_chat.words()\n",
    "print(len(wordslist))\n",
    "print(len(set(nps_words)))\n",
    "unusual_wordlist=[]\n",
    "for x in nps_words:\n",
    "    if x not in wordslist:\n",
    "        unusual_wordlist.append(x)\n",
    "print(len(set(unusual_wordlist)))        "
   ]
  },
  {
   "cell_type": "code",
   "execution_count": null,
   "metadata": {
    "collapsed": true
   },
   "outputs": [],
   "source": []
  }
 ],
 "metadata": {
  "kernelspec": {
   "display_name": "Python [conda root]",
   "language": "python",
   "name": "conda-root-py"
  },
  "language_info": {
   "codemirror_mode": {
    "name": "ipython",
    "version": 3
   },
   "file_extension": ".py",
   "mimetype": "text/x-python",
   "name": "python",
   "nbconvert_exporter": "python",
   "pygments_lexer": "ipython3",
   "version": "3.5.2"
  }
 },
 "nbformat": 4,
 "nbformat_minor": 1
}
