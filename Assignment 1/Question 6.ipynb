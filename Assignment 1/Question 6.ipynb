{
 "cells": [
  {
   "cell_type": "code",
   "execution_count": 11,
   "metadata": {
    "collapsed": false
   },
   "outputs": [
    {
     "name": "stdout",
     "output_type": "stream",
     "text": [
      "{'Coolidge': 1221, 'Truman': 781, 'Johnson': 571, 'Garfield': 1022, 'McKinley': 1682, 'Lincoln': 1261, 'Reagan': 1453, 'Harding': 1170, 'Carter': 529, 'Taylor': 499, 'Monroe': 1781, 'Jackson': 846, 'Wilson': 996, 'Madison': 899, 'Nixon': 1037, 'Polk': 1333, 'Eisenhower': 1250, 'Cleveland': 1219, 'Pierce': 1168, 'Buchanan': 948, 'Roosevelt': 1704, 'Jefferson': 1261, 'Hoover': 1087, 'Grant': 855, 'Taft': 1439, 'Adams': 1503, 'Washington': 663, 'Hayes': 832, 'VanBuren': 1318, 'Obama': 938, 'Harrison': 2662, 'Bush': 1578, 'Kennedy': 570, 'Clinton': 1138}\n"
     ]
    }
   ],
   "source": [
    "import nltk\n",
    "from nltk.corpus import inaugural\n",
    "inaugural.fileids()\n",
    "speech_dict={}\n",
    "president_names=set()\n",
    "for x in inaugural.fileids():\n",
    "    president_names.add((x[5:-4]))\n",
    "for presidentName in president_names:\n",
    "    president_word_set=set()\n",
    "    president_words=[]\n",
    "    for id in inaugural.fileids():\n",
    "        if presidentName in id:\n",
    "            words=nltk.corpus.inaugural.words(id)\n",
    "            for word in words:\n",
    "                president_words.append(word)\n",
    "    president_word_set=set(president_words)\n",
    "    speech_dict[presidentName]=len(president_word_set)\n",
    "print(speech_dict)"
   ]
  },
  {
   "cell_type": "code",
   "execution_count": null,
   "metadata": {
    "collapsed": true
   },
   "outputs": [],
   "source": []
  },
  {
   "cell_type": "code",
   "execution_count": null,
   "metadata": {
    "collapsed": true
   },
   "outputs": [],
   "source": []
  }
 ],
 "metadata": {
  "kernelspec": {
   "display_name": "Python [conda root]",
   "language": "python",
   "name": "conda-root-py"
  },
  "language_info": {
   "codemirror_mode": {
    "name": "ipython",
    "version": 3
   },
   "file_extension": ".py",
   "mimetype": "text/x-python",
   "name": "python",
   "nbconvert_exporter": "python",
   "pygments_lexer": "ipython3",
   "version": "3.5.2"
  }
 },
 "nbformat": 4,
 "nbformat_minor": 1
}
